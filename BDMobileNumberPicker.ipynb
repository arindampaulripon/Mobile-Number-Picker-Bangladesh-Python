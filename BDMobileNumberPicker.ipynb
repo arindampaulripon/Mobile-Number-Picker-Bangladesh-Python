{
 "cells": [
  {
   "cell_type": "code",
   "execution_count": 14,
   "metadata": {
    "collapsed": false
   },
   "outputs": [
    {
     "name": "stdout",
     "output_type": "stream",
     "text": [
      "Enter The Link To Find All Mobile Numbers  : http://www.khulna.gov.bd/site/view/e-directory/page=3&rows=20?page=25&rows=20\n",
      "Done\n"
     ]
    }
   ],
   "source": [
    "import re\n",
    "import string \n",
    "import requests\n",
    "import csv\n",
    "\n",
    "def BdMobileNumbers(text):\n",
    "    if len(text) != 11:\n",
    "        return False\n",
    "    for i in range(0, 3):\n",
    "        if not text[i].isdecimal():\n",
    "            return False\n",
    "    if text[0] != \"০\":\n",
    "        return False\n",
    "    if text[1] != '১':\n",
    "        return False\n",
    "    for i in range(0, 10):\n",
    "        if text[i].isspace():\n",
    "            return False\n",
    "    for i in range(0, 5):\n",
    "        if not text[i].isdigit():\n",
    "            return False\n",
    "    return True\n",
    "link = input(\"Enter The Link To Find All Mobile Numbers  : \")\n",
    "\n",
    "h = requests.get(link)\n",
    "data = h.text\n",
    "names = []\n",
    "with open('C:/Users/AP/Desktop/New folder/Addresses25.txt', 'w+', encoding='utf-8') as myfile:\n",
    "    for i in range(len(data)):\n",
    "   \n",
    "        l = data[i:i+11]\n",
    "        if BdMobileNumbers(l):\n",
    "        \n",
    "            myfile.write( l )\n",
    "            myfile.write('\\n')\n",
    "        \n",
    "        \n",
    "        #print(l)\n",
    "            \n",
    "\n",
    "        \n",
    "        \n",
    "            \n",
    "            \n",
    "print('Done')"
   ]
  },
  {
   "cell_type": "code",
   "execution_count": null,
   "metadata": {
    "collapsed": false
   },
   "outputs": [],
   "source": [
    "from bs4 import BeautifulSoup\n",
    "import urllib\n",
    "from urllib import request\n",
    "import re\n",
    "import re\n",
    "import string \n",
    "import requests\n",
    "import csv\n",
    "\n",
    "def BdMobileNumbers(text):\n",
    "    if len(text) != 11:\n",
    "        return False\n",
    "    for i in range(0, 3):\n",
    "        if not text[i].isdecimal():\n",
    "            return False\n",
    "    if text[0] != \"0\":\n",
    "        return False\n",
    "    if text[1] != '1':\n",
    "        return False\n",
    "    for i in range(0, 10):\n",
    "        if text[i].isspace():\n",
    "            return False\n",
    "    for i in range(0, 5):\n",
    "        if not text[i].isdigit():\n",
    "            return False\n",
    "    return True\n",
    "\n",
    "link = input(\"Enter The Link To Find All Mobile Numbers  : \")\n",
    "\n",
    "    \n",
    "\n",
    "h = requests.get(link)\n",
    "data = h.text\n",
    "names = []\n",
    "with open('C:/Users/AP/Desktop/New folder/Addresses191.txt', 'w+', encoding='utf-8') as myfile:\n",
    "    for i in range(len(data)):\n",
    "   \n",
    "        l = data[i:i+11]\n",
    "        if BdMobileNumbers(l):\n",
    "        \n",
    "            myfile.write( l )\n",
    "            myfile.write('\\n')\n",
    "        \n",
    "        \n",
    "        #print(l)\n",
    "            \n",
    "\n",
    "        \n",
    "        \n",
    "            \n",
    "            \n",
    "print('Done')"
   ]
  },
  {
   "cell_type": "code",
   "execution_count": null,
   "metadata": {
    "collapsed": true
   },
   "outputs": [],
   "source": []
  }
 ],
 "metadata": {
  "anaconda-cloud": {},
  "kernelspec": {
   "display_name": "Python [conda root]",
   "language": "python",
   "name": "conda-root-py"
  },
  "language_info": {
   "codemirror_mode": {
    "name": "ipython",
    "version": 3
   },
   "file_extension": ".py",
   "mimetype": "text/x-python",
   "name": "python",
   "nbconvert_exporter": "python",
   "pygments_lexer": "ipython3",
   "version": "3.5.2"
  }
 },
 "nbformat": 4,
 "nbformat_minor": 1
}
