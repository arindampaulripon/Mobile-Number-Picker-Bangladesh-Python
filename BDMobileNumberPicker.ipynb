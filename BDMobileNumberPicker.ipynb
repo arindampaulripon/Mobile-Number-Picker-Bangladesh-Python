{
 "cells": [
  {
   "cell_type": "code",
   "execution_count": 83,
   "metadata": {
    "collapsed": false
   },
   "outputs": [
    {
     "name": "stdout",
     "output_type": "stream",
     "text": [
      "Enter The Link To Find All Mobile Numbers  : http://www.khulna.gov.bd/site/view/e-directory/?page=2\n",
      "01712-03042\n",
      "01724-53384\n",
      "01031-1c4b-\n",
      "01712-03042\n",
      "01724-53384\n",
      "01817-00068\n",
      "01716887139\n",
      "01716060907\n",
      "01717284662\n",
      "01778719263\n",
      "0161119_141\n",
      "010540.jpg\"\n",
      "01711284513\n",
      "01711284513\n",
      "Done\n"
     ]
    }
   ],
   "source": [
    "import re\n",
    "import string \n",
    "import requests\n",
    " \n",
    "\n",
    "def BdMobileNumbers(text):\n",
    "    if len(text) != 11:\n",
    "        return False\n",
    "    for i in range(0, 3):\n",
    "        if not text[i].isdecimal():\n",
    "            return False\n",
    "    if text[0] != \"0\":\n",
    "        return False\n",
    "    if text[1] != '1':\n",
    "        return False\n",
    "    for i in range(0, 10):\n",
    "        if text[i].isspace():\n",
    "            return False\n",
    "    for i in range(0, 5):\n",
    "        if not text[i].isdigit():\n",
    "            return False\n",
    "    return True\n",
    "link = input(\"Enter The Link To Find All Mobile Numbers  : \")\n",
    "\n",
    "h = requests.get(link)\n",
    "data = h.text\n",
    "\n",
    "for i in range(len(data)):\n",
    "    l = data[i:i+11]\n",
    "    if BdMobileNumbers(l):\n",
    "        \n",
    "        \n",
    "        print(l)\n",
    "print('Done')"
   ]
  },
  {
   "cell_type": "code",
   "execution_count": 84,
   "metadata": {
    "collapsed": false
   },
   "outputs": [
    {
     "name": "stdout",
     "output_type": "stream",
     "text": [
      "Enter The Link To Find All Mobile Numbers  : http://www.khulna.gov.bd/site/view/e-directory/\n",
      "০১৭১১৩৪৭১০৮\n",
      "০১৭১৩৯১২৯৯৭\n",
      "০১৭১৯৩৯১০০০\n",
      "০১৭৪০৬২৫৭১৩\n",
      "০১৯৩৫৭৮৩০৪৫\n",
      "Done\n"
     ]
    }
   ],
   "source": [
    "import re\n",
    "import string \n",
    "import requests\n",
    "from translate import translator\n",
    "def isPhoneNumberb(text):\n",
    "    if len(text) != 11:\n",
    "        return False\n",
    "    for i in range(0, 3):\n",
    "        if not text[i].isdecimal():\n",
    "            return False\n",
    "    if text[0] != \"০\":\n",
    "        return False\n",
    "    if text[1] != '১':\n",
    "        return False\n",
    "\n",
    "    for i in range(0, 10):\n",
    "        if text[i].isspace():\n",
    "            return False\n",
    "    for i in range(0, 9):\n",
    "        if not text[i].isdigit():\n",
    "            return False\n",
    "    return True\n",
    "\n",
    "\n",
    "\n",
    "link = input(\"Enter The Link To Find All Mobile Numbers  : \")\n",
    "h = requests.get(link)\n",
    "dat = h.text\n",
    "\n",
    "\n",
    "   \n",
    "for i in range(len(data)):\n",
    "    chunk = data[i:i+11]\n",
    "    if isPhoneNumberb(chunk):\n",
    "        \n",
    "        \n",
    "        print(chunk)\n",
    "print('Done')"
   ]
  },
  {
   "cell_type": "code",
   "execution_count": null,
   "metadata": {
    "collapsed": true
   },
   "outputs": [],
   "source": []
  }
 ],
 "metadata": {
  "anaconda-cloud": {},
  "kernelspec": {
   "display_name": "Python [conda root]",
   "language": "python",
   "name": "conda-root-py"
  },
  "language_info": {
   "codemirror_mode": {
    "name": "ipython",
    "version": 3
   },
   "file_extension": ".py",
   "mimetype": "text/x-python",
   "name": "python",
   "nbconvert_exporter": "python",
   "pygments_lexer": "ipython3",
   "version": "3.5.2"
  }
 },
 "nbformat": 4,
 "nbformat_minor": 1
}
